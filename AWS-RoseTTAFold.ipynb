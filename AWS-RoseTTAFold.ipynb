{
 "cells": [
  {
   "cell_type": "markdown",
   "metadata": {},
   "source": [
    "# AWS-RoseTTAFold"
   ]
  },
  {
   "cell_type": "markdown",
   "metadata": {},
   "source": [
    "## Introduction"
   ]
  },
  {
   "cell_type": "markdown",
   "metadata": {},
   "source": [
    "This notebook runs the [RoseTTAFold](https://www.ipd.uw.edu/2021/07/rosettafold-accurate-protein-structure-prediction-accessible-to-all/) algorithm developed by Minkyung Baek et al. and described in (M. Baek et al., Science \n",
    "10.1126/science.abj8754 (2021))[https://www.ipd.uw.edu/wp-content/uploads/2021/07/Baek_etal_Science2021_RoseTTAFold.pdf] on AWS. The AWS workflow depends on a Batch compute environment."
   ]
  },
  {
   "cell_type": "markdown",
   "metadata": {},
   "source": [
    "![RoseTTAFold Network Architecture](img/RF_workflow.png \"RoseTTAFold Network Architecture\")"
   ]
  },
  {
   "cell_type": "markdown",
   "metadata": {},
   "source": [
    "![AWS Achitecture](img/AWS_arch.png \"AWS Architecture\")"
   ]
  },
  {
   "cell_type": "markdown",
   "metadata": {},
   "source": [
    "## Environment setup"
   ]
  },
  {
   "cell_type": "code",
   "execution_count": null,
   "metadata": {},
   "outputs": [],
   "source": [
    "## Install dependencies\n",
    "!pip install -r requirements.txt"
   ]
  },
  {
   "cell_type": "code",
   "execution_count": null,
   "metadata": {},
   "outputs": [],
   "source": [
    "## Import helper functions at src/rfutils.py\n",
    "from src import rfutils\n",
    "\n",
    "## Load additional dependencies\n",
    "from Bio import SeqIO\n",
    "from Bio.Seq import Seq\n",
    "from Bio.SeqRecord import SeqRecord\n",
    "import boto3\n",
    "import glob\n",
    "import json\n",
    "import pandas as pd\n",
    "import sagemaker"
   ]
  },
  {
   "cell_type": "code",
   "execution_count": null,
   "metadata": {},
   "outputs": [],
   "source": [
    "pd.set_option('max_colwidth', None)"
   ]
  },
  {
   "cell_type": "code",
   "execution_count": null,
   "metadata": {},
   "outputs": [],
   "source": [
    "# Get service clients\n",
    "session = boto3.session.Session()\n",
    "sm_session = sagemaker.session.Session()\n",
    "region = session.region_name\n",
    "role = sagemaker.get_execution_role()\n",
    "s3 = boto3.client('s3', region_name=region)\n",
    "account_id = boto3.client('sts').get_caller_identity().get('Account')"
   ]
  },
  {
   "cell_type": "markdown",
   "metadata": {},
   "source": [
    "Define an S3 bucket (or use the default SageMaker bucket)"
   ]
  },
  {
   "cell_type": "code",
   "execution_count": null,
   "metadata": {},
   "outputs": [],
   "source": [
    "bucket = sm_session.default_bucket()"
   ]
  },
  {
   "cell_type": "markdown",
   "metadata": {},
   "source": [
    "## Input Protein Sequence"
   ]
  },
  {
   "cell_type": "markdown",
   "metadata": {},
   "source": [
    "Provide the path to a .fasta file"
   ]
  },
  {
   "cell_type": "code",
   "execution_count": null,
   "metadata": {},
   "outputs": [],
   "source": [
    "seq = SeqIO.read(\"data/T1078.fa\", \"fasta\")"
   ]
  },
  {
   "cell_type": "markdown",
   "metadata": {},
   "source": [
    "Or, alternatively enter a protein sequence manually"
   ]
  },
  {
   "cell_type": "code",
   "execution_count": null,
   "metadata": {},
   "outputs": [],
   "source": [
    "seq = SeqRecord(\n",
    "    Seq(\"MKQHKAMIVALIVICITAVVAALVTRKDLCEVHIRTGQTEVAVF\"),\n",
    "    id=\"YP_025292.1\",\n",
    "    name=\"HokC\",\n",
    "    description=\"toxic membrane protein, small\",\n",
    ")"
   ]
  },
  {
   "cell_type": "code",
   "execution_count": null,
   "metadata": {},
   "outputs": [],
   "source": [
    "print(f\"Protein sequence for analysis is \\n{seq}\")"
   ]
  },
  {
   "cell_type": "markdown",
   "metadata": {},
   "source": [
    "## Submit RoseTTAFold Job"
   ]
  },
  {
   "cell_type": "markdown",
   "metadata": {},
   "source": [
    "Generate Job Name"
   ]
  },
  {
   "cell_type": "code",
   "execution_count": null,
   "metadata": {},
   "outputs": [],
   "source": [
    "job_name = rfutils.get_job_name(seq.id)\n",
    "print(f\"Automatically-generated job name is: {job_name}\")"
   ]
  },
  {
   "cell_type": "markdown",
   "metadata": {},
   "source": [
    "Upload fasta file to S3"
   ]
  },
  {
   "cell_type": "code",
   "execution_count": null,
   "metadata": {},
   "outputs": [],
   "source": [
    "input_uri = rfutils.upload_fasta_to_s3(seq, bucket, job_name)"
   ]
  },
  {
   "cell_type": "markdown",
   "metadata": {},
   "source": [
    "Submit job to AWS Batch queue"
   ]
  },
  {
   "cell_type": "code",
   "execution_count": null,
   "metadata": {},
   "outputs": [],
   "source": [
    "two_step_response=rfutils.submit_2_step_job(\n",
    "    bucket=bucket,\n",
    "    job_name=job_name,\n",
    "    data_prep_input_file=\"input.fa\",\n",
    "    data_prep_job_definition=\"AWS-RoseTTAFold-CPU\",\n",
    "    data_prep_queue=\"AWS-RoseTTAFold-CPU\",\n",
    "    data_prep_cpu=24,\n",
    "    data_prep_mem=80,\n",
    "    predict_job_definition=\"AWS-RoseTTAFold-GPU\",\n",
    "    predict_queue=\"AWS-RoseTTAFold-GPU\",\n",
    "    predict_cpu=24,\n",
    "    predict_mem=80,\n",
    "    predict_gpu=2\n",
    ")\n",
    "jobId = two_step_response[0][\"jobId\"]"
   ]
  },
  {
   "cell_type": "markdown",
   "metadata": {},
   "source": [
    "## Check status of RF Job"
   ]
  },
  {
   "cell_type": "code",
   "execution_count": null,
   "metadata": {},
   "outputs": [],
   "source": [
    "print(json.dumps(rfutils.get_batch_job_info(two_step_response[0][\"jobId\"]), indent=4, sort_keys=True))\n",
    "print(json.dumps(rfutils.get_batch_job_info(two_step_response[1][\"jobId\"]), indent=4, sort_keys=True))\n",
    "\n",
    "output=rfutils.get_rf_job_info(hrs_in_past=1)"
   ]
  },
  {
   "cell_type": "markdown",
   "metadata": {},
   "source": [
    "## Retrieve and analyze MSA results"
   ]
  },
  {
   "cell_type": "markdown",
   "metadata": {},
   "source": [
    "Pause while the job starts up"
   ]
  },
  {
   "cell_type": "code",
   "execution_count": null,
   "metadata": {},
   "outputs": [],
   "source": [
    "rfutils.wait_for_job_start(two_step_response[0][\"jobId\"])"
   ]
  },
  {
   "cell_type": "markdown",
   "metadata": {},
   "source": [
    "Get run logs (Run this multiple times to see how the job progresses)"
   ]
  },
  {
   "cell_type": "code",
   "execution_count": null,
   "metadata": {},
   "outputs": [],
   "source": [
    "info = rfutils.get_batch_job_info(two_step_response[0][\"jobId\"])\n",
    "rfutils.get_batch_logs(info[\"logStreamName\"]).tail()"
   ]
  },
  {
   "cell_type": "code",
   "execution_count": null,
   "metadata": {},
   "outputs": [],
   "source": [
    "info = rfutils.get_batch_job_info(two_step_response[0][\"jobId\"])\n",
    "\n",
    "if info[\"status\"] == \"SUCCEEDED\":\n",
    "    # download MSA file\n",
    "    print(f\"Downloading MSA file from s3://{bucket}/{info['jobName']}/{info['jobName']}.msa0.a3m\")\n",
    "    s3.download_file(bucket, f\"{info['jobName']}/{info['jobName']}.msa0.a3m\", \"data/alignment.msa\")\n",
    "    msa_all = rfutils.parse_a3m(\"data/alignment.msa\")\n",
    "    rfutils.plot_msa_info(msa_all)\n",
    "else:\n",
    "    print(f\"{info['jobId']} is in {info['status']} status. Please try again once the job has completed.\")"
   ]
  },
  {
   "cell_type": "markdown",
   "metadata": {},
   "source": [
    "## Retrieve and display structure"
   ]
  },
  {
   "cell_type": "code",
   "execution_count": null,
   "metadata": {},
   "outputs": [],
   "source": [
    "rfutils.wait_for_job_start(two_step_response[1][\"jobId\"])"
   ]
  },
  {
   "cell_type": "code",
   "execution_count": null,
   "metadata": {},
   "outputs": [],
   "source": [
    "info = rfutils.get_batch_job_info(two_step_response[1][\"jobId\"])\n",
    "rfutils.get_batch_logs(info[\"logStreamName\"]).tail()"
   ]
  },
  {
   "cell_type": "code",
   "execution_count": null,
   "metadata": {},
   "outputs": [],
   "source": [
    "info = rfutils.get_batch_job_info(two_step_response[1][\"jobId\"])\n",
    "\n",
    "if info[\"status\"] == \"SUCCEEDED\":\n",
    "    s3.download_file(bucket, f\"{info['jobName']}/{info['jobName']}.e2e.pdb\", \"data/e2e.pdb\")\n",
    "    color = \"lDDT\" #@param [\"chain\", \"lDDT\", \"rainbow\"]\n",
    "    show_sidechains = False\n",
    "    show_mainchains = False\n",
    "    rfutils.show_pdb(\"data/e2e.pdb\", show_sidechains, show_mainchains, color, chains=1, vmin=0.5, vmax=0.9).show()\n",
    "    if color == \"lDDT\": rfutils.plot_plddt_legend().show()\n",
    "else:\n",
    "    print(f\"{info['jobId']} is in {info['status']} status. Please try again once the job has completed.\")"
   ]
  },
  {
   "cell_type": "markdown",
   "metadata": {},
   "source": [
    "## Analyze Proteins in Bulk"
   ]
  },
  {
   "cell_type": "code",
   "execution_count": null,
   "metadata": {},
   "outputs": [],
   "source": [
    "fasta_files = glob.glob('data/*.fa')\n",
    "job_ids = []\n",
    "for file in fasta_files:\n",
    "    seq = SeqIO.read(file, \"fasta\")\n",
    "    job_name = rfutils.get_job_name(seq.id)\n",
    "    print(f\"Automatically-generated job name is: {job_name}\")\n",
    "    input_uri = rfutils.upload_fasta_to_s3(seq, bucket, job_name)\n",
    "    two_step_response=rfutils.submit_2_step_job(\n",
    "        bucket=bucket,\n",
    "        job_name=job_name,\n",
    "        data_prep_input_file=\"input.fa\",\n",
    "        data_prep_job_definition=\"AWS-RoseTTAFold-CPU\",\n",
    "        data_prep_queue=\"AWS-RoseTTAFold-CPU\",\n",
    "        data_prep_cpu=24,\n",
    "        data_prep_mem=80,\n",
    "        predict_job_definition=\"AWS-RoseTTAFold-GPU\",\n",
    "        predict_queue=\"AWS-RoseTTAFold-GPU\",\n",
    "        predict_cpu=24,\n",
    "        predict_mem=80,\n",
    "        predict_gpu=2\n",
    "    )"
   ]
  },
  {
   "cell_type": "code",
   "execution_count": null,
   "metadata": {},
   "outputs": [],
   "source": [
    "output=rfutils.get_rf_job_info(hrs_in_past=1)"
   ]
  }
 ],
 "metadata": {
  "instance_type": "ml.t3.medium",
  "kernelspec": {
   "display_name": "Python 3 (Data Science)",
   "language": "python",
   "name": "python3__SAGEMAKER_INTERNAL__arn:aws:sagemaker:us-east-1:081325390199:image/datascience-1.0"
  },
  "language_info": {
   "codemirror_mode": {
    "name": "ipython",
    "version": 3
   },
   "file_extension": ".py",
   "mimetype": "text/x-python",
   "name": "python",
   "nbconvert_exporter": "python",
   "pygments_lexer": "ipython3",
   "version": "3.7.10"
  }
 },
 "nbformat": 4,
 "nbformat_minor": 4
}
