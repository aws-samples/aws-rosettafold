{
 "cells": [
  {
   "cell_type": "markdown",
   "metadata": {},
   "source": [
    "# AWS-RoseTTAFold"
   ]
  },
  {
   "cell_type": "markdown",
   "metadata": {},
   "source": [
    "## I. Introduction"
   ]
  },
  {
   "cell_type": "markdown",
   "metadata": {},
   "source": [
    "This notebook runs the [RoseTTAFold](https://www.ipd.uw.edu/2021/07/rosettafold-accurate-protein-structure-prediction-accessible-to-all/) algorithm developed by Minkyung Baek et al. and described in [M. Baek et al., Science \n",
    "10.1126/science.abj8754 2021](https://www.ipd.uw.edu/wp-content/uploads/2021/07/Baek_etal_Science2021_RoseTTAFold.pdf) on AWS."
   ]
  },
  {
   "cell_type": "markdown",
   "metadata": {},
   "source": [
    "<img src=\"img/RF_workflow.png\" alt=\"RoseTTAFold Workflow\" width=\"800px\" />"
   ]
  },
  {
   "cell_type": "markdown",
   "metadata": {},
   "source": [
    "The AWS workflow depends on a Batch compute environment."
   ]
  },
  {
   "cell_type": "markdown",
   "metadata": {},
   "source": [
    "<img src=\"img/AWS-RoseTTAFold-arch.png\" alt=\"AWS-RoseTTAFold Architecture\" width=\"800px\" />"
   ]
  },
  {
   "cell_type": "markdown",
   "metadata": {},
   "source": [
    "## II. Environment setup"
   ]
  },
  {
   "cell_type": "code",
   "execution_count": null,
   "metadata": {},
   "outputs": [],
   "source": [
    "## Install dependencies\n",
    "!pip install -r requirements.txt\n",
    "\n",
    "## Import helper functions at src/rfutils.py\n",
    "from rfutils import rfutils\n",
    "\n",
    "## Load additional dependencies\n",
    "from Bio import SeqIO\n",
    "from Bio.Seq import Seq\n",
    "from Bio.SeqRecord import SeqRecord\n",
    "import boto3\n",
    "import glob\n",
    "import json\n",
    "import pandas as pd\n",
    "import sagemaker\n",
    "\n",
    "pd.set_option(\"max_colwidth\", None)\n",
    "\n",
    "# Get service clients\n",
    "session = boto3.session.Session()\n",
    "sm_session = sagemaker.session.Session()\n",
    "region = session.region_name\n",
    "role = sagemaker.get_execution_role()\n",
    "s3 = boto3.client(\"s3\", region_name=region)\n",
    "account_id = boto3.client(\"sts\").get_caller_identity().get(\"Account\")\n",
    "\n",
    "bucket = sm_session.default_bucket()"
   ]
  },
  {
   "cell_type": "markdown",
   "metadata": {},
   "source": [
    "## III. Input Protein Sequence"
   ]
  },
  {
   "cell_type": "markdown",
   "metadata": {},
   "source": [
    "Provide the path to a .fasta file"
   ]
  },
  {
   "cell_type": "code",
   "execution_count": null,
   "metadata": {},
   "outputs": [],
   "source": [
    "#seq = SeqIO.read(\"data/T1078.fa\", \"fasta\")\n",
    "seq = SeqIO.read(\"data/T1036s1.fa\", \"fasta\")"
   ]
  },
  {
   "cell_type": "markdown",
   "metadata": {},
   "source": [
    "Or, alternatively enter a protein sequence manually"
   ]
  },
  {
   "cell_type": "code",
   "execution_count": null,
   "metadata": {},
   "outputs": [],
   "source": [
    "seq = SeqRecord(\n",
    "    Seq(\"MKQHKAMIVALIVICITAVVAALVTRKDLCEVHIRTGQTEVAVF\"),\n",
    "    id=\"YP_025292.1\",\n",
    "    name=\"HokC\",\n",
    "    description=\"toxic membrane protein, small\",\n",
    ")"
   ]
  },
  {
   "cell_type": "code",
   "execution_count": null,
   "metadata": {},
   "outputs": [],
   "source": [
    "print(f\"Protein sequence for analysis is \\n{seq}\")"
   ]
  },
  {
   "cell_type": "markdown",
   "metadata": {},
   "source": [
    "## IV. Submit RoseTTAFold Jobs"
   ]
  },
  {
   "cell_type": "markdown",
   "metadata": {},
   "source": [
    "### Generate Job Name"
   ]
  },
  {
   "cell_type": "code",
   "execution_count": null,
   "metadata": {},
   "outputs": [],
   "source": [
    "job_name = rfutils.create_job_name(seq.id)\n",
    "print(f\"Automatically-generated job name is: {job_name}\")"
   ]
  },
  {
   "cell_type": "markdown",
   "metadata": {},
   "source": [
    "### Upload fasta file to S3"
   ]
  },
  {
   "cell_type": "code",
   "execution_count": null,
   "metadata": {},
   "outputs": [],
   "source": [
    "input_uri = rfutils.upload_fasta_to_s3(seq, bucket, job_name)"
   ]
  },
  {
   "cell_type": "markdown",
   "metadata": {},
   "source": [
    "### Submit jobs to AWS Batch queues"
   ]
  },
  {
   "cell_type": "code",
   "execution_count": null,
   "metadata": {},
   "outputs": [],
   "source": [
    "two_step_response = rfutils.submit_2_step_job(\n",
    "    bucket=bucket,\n",
    "    job_name=job_name,\n",
    "    data_prep_input_file=\"input.fa\",\n",
    "    data_prep_job_definition=\"AWS-RoseTTAFold-CPU\",\n",
    "    data_prep_queue=\"AWS-RoseTTAFold-CPU\",\n",
    "    data_prep_cpu=16,\n",
    "    data_prep_mem=60,\n",
    "    predict_job_definition=\"AWS-RoseTTAFold-GPU\",\n",
    "    predict_queue=\"AWS-RoseTTAFold-GPU\",\n",
    "    predict_cpu=32,\n",
    "    predict_mem=90,\n",
    "    predict_gpu=2,\n",
    ")\n",
    "data_prep_jobId = two_step_response[0][\"jobId\"]\n",
    "predict_jobId = two_step_response[1][\"jobId\"]"
   ]
  },
  {
   "cell_type": "markdown",
   "metadata": {},
   "source": [
    "## V. Check Status of Data Prep and Prediction Jobs"
   ]
  },
  {
   "cell_type": "code",
   "execution_count": null,
   "metadata": {},
   "outputs": [],
   "source": [
    "rfutils.get_rf_job_info(hrs_in_past=1)"
   ]
  },
  {
   "cell_type": "markdown",
   "metadata": {},
   "source": [
    "Pause while the data prep job starts up"
   ]
  },
  {
   "cell_type": "code",
   "execution_count": null,
   "metadata": {},
   "outputs": [],
   "source": [
    "rfutils.wait_for_job_start(data_prep_jobId)"
   ]
  },
  {
   "cell_type": "markdown",
   "metadata": {},
   "source": [
    "Get logs for data prep job (Run this multiple times to see how the job progresses)"
   ]
  },
  {
   "cell_type": "code",
   "execution_count": null,
   "metadata": {},
   "outputs": [],
   "source": [
    "data_prep_logStreamName = rfutils.get_batch_job_info(data_prep_jobId)[\"logStreamName\"]\n",
    "rfutils.get_batch_logs(data_prep_logStreamName).tail(n=10)"
   ]
  },
  {
   "cell_type": "markdown",
   "metadata": {},
   "source": [
    "## VI. Retrieve and Display Multiple Sequence Alignment (MSA) Results"
   ]
  },
  {
   "cell_type": "code",
   "execution_count": null,
   "metadata": {},
   "outputs": [],
   "source": [
    "rfutils.display_msa(data_prep_jobId, bucket)"
   ]
  },
  {
   "cell_type": "markdown",
   "metadata": {},
   "source": [
    "## VII. Retrieve and Display Predicted Structure"
   ]
  },
  {
   "cell_type": "markdown",
   "metadata": {},
   "source": [
    "Pause while the predict job starts up"
   ]
  },
  {
   "cell_type": "code",
   "execution_count": null,
   "metadata": {},
   "outputs": [],
   "source": [
    "rfutils.wait_for_job_start(predict_jobId)"
   ]
  },
  {
   "cell_type": "markdown",
   "metadata": {},
   "source": [
    "Get logs for predict job (Run this multiple times to see how the job progresses)"
   ]
  },
  {
   "cell_type": "code",
   "execution_count": null,
   "metadata": {},
   "outputs": [],
   "source": [
    "predict_logStreamName = rfutils.get_batch_job_info(predict_jobId)[\"logStreamName\"]\n",
    "rfutils.get_batch_logs(predict_logStreamName).tail(n=10)"
   ]
  },
  {
   "cell_type": "code",
   "execution_count": null,
   "metadata": {},
   "outputs": [],
   "source": [
    "rfutils.display_structure(predict_jobId, bucket)"
   ]
  },
  {
   "cell_type": "markdown",
   "metadata": {},
   "source": [
    "## VIII. Display the Results of Historical Runs"
   ]
  },
  {
   "cell_type": "code",
   "execution_count": null,
   "metadata": {},
   "outputs": [],
   "source": [
    "# Example Jobs for Demo\n",
    "data_prep_jobId = \"4dce37f9-9ae5-4e56-b06c-babb02259218\"\n",
    "predict_jobId = \"ac779444-94c5-49b0-990a-88745e6c70b9\"\n",
    "bucket = \"sagemaker-us-east-1-032243382548\"\n",
    "\n",
    "rfutils.display_msa(data_prep_jobId, bucket)\n",
    "rfutils.display_structure(predict_jobId, bucket)"
   ]
  },
  {
   "cell_type": "markdown",
   "metadata": {},
   "source": [
    "## IX. Analyze Multiple Sequences Simultaneously"
   ]
  },
  {
   "cell_type": "code",
   "execution_count": null,
   "metadata": {},
   "outputs": [],
   "source": [
    "fasta_files = glob.glob(\"data/*.fa\")\n",
    "job_ids = []\n",
    "for file in fasta_files:\n",
    "    seq = SeqIO.read(file, \"fasta\")\n",
    "    job_name = rfutils.get_job_name(seq.id)\n",
    "    print(f\"Automatically-generated job name is: {job_name}\")\n",
    "    input_uri = rfutils.upload_fasta_to_s3(seq, bucket, job_name)\n",
    "    two_step_response = rfutils.submit_2_step_job(\n",
    "        bucket=bucket,\n",
    "        job_name=job_name,\n",
    "        data_prep_input_file=\"input.fa\",\n",
    "        data_prep_job_definition=\"AWS-RoseTTAFold-CPU\",\n",
    "        data_prep_queue=\"AWS-RoseTTAFold-CPU\",\n",
    "        data_prep_cpu=24,\n",
    "        data_prep_mem=80,\n",
    "        predict_job_definition=\"AWS-RoseTTAFold-GPU\",\n",
    "        predict_queue=\"AWS-RoseTTAFold-GPU\",\n",
    "        predict_cpu=24,\n",
    "        predict_mem=80,\n",
    "        predict_gpu=2,\n",
    "    )"
   ]
  },
  {
   "cell_type": "code",
   "execution_count": null,
   "metadata": {},
   "outputs": [],
   "source": [
    "output = rfutils.get_rf_job_info(hrs_in_past=1)"
   ]
  }
 ],
 "metadata": {
  "instance_type": "ml.t3.medium",
  "kernelspec": {
   "display_name": "Python 3 (Data Science)",
   "language": "python",
   "name": "python3__SAGEMAKER_INTERNAL__arn:aws:sagemaker:us-east-1:081325390199:image/datascience-1.0"
  },
  "language_info": {
   "codemirror_mode": {
    "name": "ipython",
    "version": 3
   },
   "file_extension": ".py",
   "mimetype": "text/x-python",
   "name": "python",
   "nbconvert_exporter": "python",
   "pygments_lexer": "ipython3",
   "version": "3.7.10"
  }
 },
 "nbformat": 4,
 "nbformat_minor": 4
}
