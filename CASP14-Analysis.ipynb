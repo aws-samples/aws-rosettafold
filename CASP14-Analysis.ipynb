{
 "cells": [
  {
   "cell_type": "markdown",
   "metadata": {},
   "source": [
    "# AWS-RoseTTAFold: Bulk Job Analysis"
   ]
  },
  {
   "cell_type": "markdown",
   "metadata": {},
   "source": [
    "## I. Introduction"
   ]
  },
  {
   "cell_type": "markdown",
   "metadata": {},
   "source": [
    "This notebook demonstrates how to analyze multiple protein simultaneously, in this case a subset of the CASP14 target set."
   ]
  },
  {
   "cell_type": "markdown",
   "metadata": {},
   "source": [
    "## II. Environment setup"
   ]
  },
  {
   "cell_type": "code",
   "execution_count": null,
   "metadata": {},
   "outputs": [],
   "source": [
    "## Install dependencies\n",
    "!pip install -q -q -r requirements.txt\n",
    "\n",
    "## Import helper functions at rfutils/rfutils.py\n",
    "from rfutils import rfutils\n",
    "\n",
    "## Load additional dependencies\n",
    "from Bio import SeqIO\n",
    "from Bio.Seq import Seq\n",
    "from Bio.SeqRecord import SeqRecord\n",
    "import boto3\n",
    "import glob\n",
    "import json\n",
    "import pandas as pd\n",
    "import sagemaker\n",
    "\n",
    "pd.set_option(\"max_colwidth\", None)\n",
    "\n",
    "# Get service clients\n",
    "session = boto3.session.Session()\n",
    "sm_session = sagemaker.session.Session()\n",
    "region = session.region_name\n",
    "role = sagemaker.get_execution_role()\n",
    "s3 = boto3.client(\"s3\", region_name=region)\n",
    "account_id = boto3.client(\"sts\").get_caller_identity().get(\"Account\")\n",
    "\n",
    "bucket = sm_session.default_bucket()"
   ]
  },
  {
   "cell_type": "markdown",
   "metadata": {},
   "source": [
    "## III. Input Protein Sequence"
   ]
  },
  {
   "cell_type": "code",
   "execution_count": null,
   "metadata": {},
   "outputs": [],
   "source": [
    "casp14_list = SeqIO.to_dict(SeqIO.parse(\"data/casp14.fa\", \"fasta\"))"
   ]
  },
  {
   "cell_type": "code",
   "execution_count": null,
   "metadata": {},
   "outputs": [],
   "source": [
    "protein_count = 5\n",
    "\n",
    "casp14_subset = {\n",
    "    key: value\n",
    "    for key, value in casp14_list.items()\n",
    "    if key in list(casp14_list.keys())[:protein_count]\n",
    "}\n",
    "for record in casp14_subset.values():\n",
    "    print(record.description)"
   ]
  },
  {
   "cell_type": "code",
   "execution_count": null,
   "metadata": {},
   "outputs": [],
   "source": [
    "for record in casp14_subset.values():\n",
    "    print(f\"Protein sequence for analysis is \\n{record}\")\n",
    "    job_name = rfutils.create_job_name(record.id)\n",
    "    print(f\"Automatically-generated job name is: {job_name}\")\n",
    "    input_uri = rfutils.upload_fasta_to_s3(record, bucket, job_name)\n",
    "    two_step_response = rfutils.submit_2_step_job(\n",
    "        bucket=bucket,\n",
    "        job_name=job_name,\n",
    "        data_prep_input_file=\"input.fa\",\n",
    "        data_prep_job_definition=\"AWS-RosettaFold-CPU-Job-Definition\",\n",
    "        data_prep_queue=\"AWS-RF-cpu-job-queue\",\n",
    "        data_prep_cpu=16,\n",
    "        data_prep_mem=60,\n",
    "        predict_job_definition=\"AWS-RosettaFold-GPU-Job-Definition\",\n",
    "        predict_queue=\"AWS-RF-gpu-job-queue\",\n",
    "        predict_cpu=32,\n",
    "        predict_mem=90,\n",
    "        predict_gpu=2,\n",
    "    )"
   ]
  },
  {
   "cell_type": "markdown",
   "metadata": {},
   "source": [
    "## IV. Check Status of Data Prep and Prediction Jobs"
   ]
  },
  {
   "cell_type": "code",
   "execution_count": null,
   "metadata": {},
   "outputs": [],
   "source": [
    "rfutils.get_rf_job_info(\n",
    "    cpu_queue=\"AWS-RF-cpu-job-queue\", gpu_queue=\"AWS-RF-gpu-job-queue\", hrs_in_past=1\n",
    ")"
   ]
  },
  {
   "cell_type": "markdown",
   "metadata": {},
   "source": [
    "## V. Display the Results of Historical Runs"
   ]
  },
  {
   "cell_type": "code",
   "execution_count": null,
   "metadata": {},
   "outputs": [],
   "source": [
    "# T1024 LmrP, , 408 residues|\n",
    "rfutils.display_msa(\"d1076b6c-e844-4fda-a18a-389583e3bcf1\", bucket)\n",
    "rfutils.display_structure(\"9f997ec0-0ff8-4e86-9713-857f12bc2e6c\", bucket)"
   ]
  },
  {
   "cell_type": "code",
   "execution_count": null,
   "metadata": {},
   "outputs": [],
   "source": [
    "# T1036s1 Monoclonal antibody 93k, Varicella-zoster virus, strain pOka, subunit 1, 622 residues|\n",
    "rfutils.display_msa(\"cab38277-78f0-4513-bef1-e45f20aaf314\", bucket)\n",
    "rfutils.display_structure(\"cab38277-78f0-4513-bef1-e45f20aaf314\", bucket)"
   ]
  },
  {
   "cell_type": "code",
   "execution_count": null,
   "metadata": {},
   "outputs": [],
   "source": [
    "# T1025 AtmM , Actinomadura melliaura, 268 residues|\n",
    "rfutils.display_msa(\"d3f7e4e3-ae84-4ef2-a7aa-d57215a8a684\", bucket)\n",
    "rfutils.display_structure(\"d3f7e4e3-ae84-4ef2-a7aa-d57215a8a684\", bucket)"
   ]
  },
  {
   "cell_type": "code",
   "execution_count": null,
   "metadata": {},
   "outputs": [],
   "source": []
  }
 ],
 "metadata": {
  "instance_type": "ml.t3.medium",
  "interpreter": {
   "hash": "b0fa6594d8f4cbf19f97940f81e996739fb7646882a419484c72d19e05852a7e"
  },
  "kernelspec": {
   "display_name": "Python 3 (Data Science)",
   "language": "python",
   "name": "python3"
  },
  "language_info": {
   "codemirror_mode": {
    "name": "ipython",
    "version": 3
   },
   "file_extension": ".py",
   "mimetype": "text/x-python",
   "name": "python",
   "nbconvert_exporter": "python",
   "pygments_lexer": "ipython3",
   "version": "3.8.9"
  }
 },
 "nbformat": 4,
 "nbformat_minor": 4
}
